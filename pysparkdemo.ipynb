{
 "cells": [
  {
   "cell_type": "code",
   "execution_count": 22,
   "metadata": {
    "collapsed": true
   },
   "outputs": [],
   "source": [
    "import pyspark\n",
    "from pyspark.context import SparkContext\n",
    "from pyspark.sql import SparkSession, SQLContext\n",
    "\n",
    "spark = SparkSession.builder.master(\"spark://sparkly:7077\").getOrCreate()\n",
    "sc = spark.sparkContext"
   ]
  },
  {
   "cell_type": "code",
   "execution_count": 23,
   "metadata": {
    "collapsed": false
   },
   "outputs": [],
   "source": [
    "df = spark.read.option(\"header\",\"true\").csv(\"datasets/monthly_births_by_state.csv\")"
   ]
  },
  {
   "cell_type": "code",
   "execution_count": 28,
   "metadata": {
    "collapsed": false
   },
   "outputs": [
    {
     "name": "stdout",
     "output_type": "stream",
     "text": [
      "+-------+----+---------+---------------------------------+\n",
      "|  State|Year|    Month|Provisional Number of Live Births|\n",
      "+-------+----+---------+---------------------------------+\n",
      "|ALABAMA|2016|  January|                             4816|\n",
      "|ALABAMA|2016| February|                             4690|\n",
      "|ALABAMA|2016|    March|                             4847|\n",
      "|ALABAMA|2016|    April|                             4536|\n",
      "|ALABAMA|2016|      May|                             4789|\n",
      "|ALABAMA|2016|     June|                             5057|\n",
      "|ALABAMA|2016|     July|                             5038|\n",
      "|ALABAMA|2016|   August|                             5331|\n",
      "|ALABAMA|2016|September|                             5242|\n",
      "| ALASKA|2016|  January|                              943|\n",
      "| ALASKA|2016| February|                              829|\n",
      "| ALASKA|2016|    March|                              966|\n",
      "| ALASKA|2016|    April|                              915|\n",
      "| ALASKA|2016|      May|                              959|\n",
      "| ALASKA|2016|     June|                              986|\n",
      "| ALASKA|2016|     July|                              957|\n",
      "| ALASKA|2016|   August|                              952|\n",
      "| ALASKA|2016|September|                              951|\n",
      "|ARIZONA|2016|  January|                             7082|\n",
      "|ARIZONA|2016| February|                             6765|\n",
      "+-------+----+---------+---------------------------------+\n",
      "only showing top 20 rows\n",
      "\n"
     ]
    }
   ],
   "source": [
    "df.show()"
   ]
  },
  {
   "cell_type": "code",
   "execution_count": 33,
   "metadata": {
    "collapsed": false
   },
   "outputs": [
    {
     "name": "stdout",
     "output_type": "stream",
     "text": [
      "+-------+----+---------+---------------------------------+\n",
      "|  State|Year|    Month|Provisional Number of Live Births|\n",
      "+-------+----+---------+---------------------------------+\n",
      "|ALABAMA|2016|  January|                             4816|\n",
      "|ALABAMA|2016| February|                             4690|\n",
      "|ALABAMA|2016|    March|                             4847|\n",
      "|ALABAMA|2016|    April|                             4536|\n",
      "|ALABAMA|2016|      May|                             4789|\n",
      "|ALABAMA|2016|     June|                             5057|\n",
      "|ALABAMA|2016|     July|                             5038|\n",
      "|ALABAMA|2016|   August|                             5331|\n",
      "|ALABAMA|2016|September|                             5242|\n",
      "+-------+----+---------+---------------------------------+\n",
      "\n"
     ]
    }
   ],
   "source": [
    "df.createOrReplaceTempView(\"births\")\n",
    "\n",
    "sqlDF = spark.sql(\"SELECT * FROM births WHERE State == 'ALABAMA'\")\n",
    "sqlDF.show()\n"
   ]
  }
 ],
 "metadata": {
  "anaconda-cloud": {},
  "kernelspec": {
   "display_name": "Python [default]",
   "language": "python",
   "name": "python3"
  },
  "language_info": {
   "codemirror_mode": {
    "name": "ipython",
    "version": 3
   },
   "file_extension": ".py",
   "mimetype": "text/x-python",
   "name": "python",
   "nbconvert_exporter": "python",
   "pygments_lexer": "ipython3",
   "version": "3.5.2"
  }
 },
 "nbformat": 4,
 "nbformat_minor": 2
}
